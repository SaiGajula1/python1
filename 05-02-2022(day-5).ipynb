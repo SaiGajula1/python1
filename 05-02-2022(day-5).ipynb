{
 "cells": [
  {
   "cell_type": "markdown",
   "id": "824f6561",
   "metadata": {},
   "source": [
    "### File handling\n",
    "- file: file is named location or memory used to store relative information\n",
    "    - . csv,.py,.html,.txt,.ipynb,.mp4\n",
    "- file handling: it allows user to handle files compared to other languages programming in file handling is easy in python\n",
    "- read and write files.along with the other files handle options to work on file\n",
    "- steps of the handling\n",
    "    - open file\n",
    "    - doing operations\n",
    "    - close a file\n",
    "- open function()\n",
    "   - we use open fun() in python to open the file in the read and write\n",
    "   - to return a object we use in open function() along 2 arguments.that accept the file name and mode wether read or write\n",
    "   - syntax::open(filename.mode)\n",
    "   \n",
    "- modes are thre types to open a file\n",
    "   - read()--'r'-->to read a file\n",
    "      - file_variable.read(size)\n",
    "   - write()--'w'-->to write a file\n",
    "      - file_variable.apppend(data)\n",
    "      \n",
    "- by default the file will bw open as 'r' mode\n",
    "- close()\n",
    "    - it is used close the file\n",
    "    - every time you have to close a file at the end of the operations.otherwise the changes will not be applicable."
   ]
  },
  {
   "cell_type": "code",
   "execution_count": 1,
   "id": "e501fbef",
   "metadata": {},
   "outputs": [
    {
     "name": "stdout",
     "output_type": "stream",
     "text": [
      "succesfully opend\n"
     ]
    }
   ],
   "source": [
    "f=open(\"data.txt\",'r')\n",
    "if f:\n",
    "    print(\"succesfully opend\")\n",
    "else:\n",
    "    print(\"failed\")"
   ]
  },
  {
   "cell_type": "code",
   "execution_count": 2,
   "id": "e8b83d38",
   "metadata": {},
   "outputs": [
    {
     "name": "stdout",
     "output_type": "stream",
     "text": [
      "gudbyepopofpogt orue09ueir 09u90eru \n"
     ]
    }
   ],
   "source": [
    "# read\n",
    "f=open(\"data.txt\")\n",
    "print(f.read())\n",
    "f.close()"
   ]
  },
  {
   "cell_type": "code",
   "execution_count": 3,
   "id": "7a63f12c",
   "metadata": {},
   "outputs": [
    {
     "name": "stdout",
     "output_type": "stream",
     "text": [
      "gudbyepopofpogt orue09ueir 09u90eru \n"
     ]
    }
   ],
   "source": [
    "# using with key word automatically file will be closed\n",
    "with open(\"data.txt\") as f:\n",
    "    fr=f.read()\n",
    "    print(fr)"
   ]
  },
  {
   "cell_type": "code",
   "execution_count": 4,
   "id": "79a98e12",
   "metadata": {},
   "outputs": [
    {
     "name": "stdout",
     "output_type": "stream",
     "text": [
      "gudbye\n"
     ]
    }
   ],
   "source": [
    "f=open(\"data.txt\")\n",
    "print(f.read(6))\n",
    "f.close()"
   ]
  },
  {
   "cell_type": "code",
   "execution_count": 5,
   "id": "a6e81d3d",
   "metadata": {},
   "outputs": [
    {
     "name": "stdout",
     "output_type": "stream",
     "text": [
      "18\n"
     ]
    }
   ],
   "source": [
    "f=open(\"data1.txt\",'w')\n",
    "fr=f.write(\"python programming\")\n",
    "print(fr)\n",
    "f.close()"
   ]
  },
  {
   "cell_type": "markdown",
   "id": "5897ee8e",
   "metadata": {},
   "source": [
    "### file handling methods\n",
    "- open()\n",
    "- rerad()\n",
    "- write()\n",
    "- close()\n",
    "- readline()\n",
    "- readlines()\n",
    "- seek()\n",
    "- tell()\n",
    "- types of modes:\n",
    "    - read()--'r'\n",
    "    - write()--'w'\n",
    "    - append()--'a'"
   ]
  },
  {
   "cell_type": "code",
   "execution_count": 18,
   "id": "bf14422b",
   "metadata": {},
   "outputs": [],
   "source": [
    "f=open(\"data.txt\")\n"
   ]
  },
  {
   "cell_type": "code",
   "execution_count": 19,
   "id": "838816c0",
   "metadata": {},
   "outputs": [],
   "source": [
    "info=f.read(6)"
   ]
  },
  {
   "cell_type": "code",
   "execution_count": 20,
   "id": "60ee45d4",
   "metadata": {},
   "outputs": [
    {
     "name": "stdout",
     "output_type": "stream",
     "text": [
      "\n"
     ]
    }
   ],
   "source": [
    "print(info)"
   ]
  },
  {
   "cell_type": "code",
   "execution_count": 21,
   "id": "79f9a1b6",
   "metadata": {},
   "outputs": [
    {
     "name": "stdout",
     "output_type": "stream",
     "text": [
      "\n"
     ]
    }
   ],
   "source": [
    "d=f.read()\n",
    "print(d)"
   ]
  },
  {
   "cell_type": "code",
   "execution_count": 22,
   "id": "fcc1157b",
   "metadata": {},
   "outputs": [],
   "source": [
    "f.close()"
   ]
  },
  {
   "cell_type": "code",
   "execution_count": 23,
   "id": "5154731d",
   "metadata": {},
   "outputs": [],
   "source": [
    "# write mode()\n",
    "# it is used to write something in file\n",
    "# if file is not their directory,\n",
    "# the file will be create and data will be written in that file"
   ]
  },
  {
   "cell_type": "code",
   "execution_count": 24,
   "id": "254e8967",
   "metadata": {},
   "outputs": [],
   "source": [
    "fo=open('data.txt','w')"
   ]
  },
  {
   "cell_type": "code",
   "execution_count": 25,
   "id": "33115d60",
   "metadata": {},
   "outputs": [
    {
     "data": {
      "text/plain": [
       "6"
      ]
     },
     "execution_count": 25,
     "metadata": {},
     "output_type": "execute_result"
    }
   ],
   "source": [
    "fo.write(\"gudbye\")"
   ]
  },
  {
   "cell_type": "code",
   "execution_count": 26,
   "id": "3683b2da",
   "metadata": {},
   "outputs": [],
   "source": [
    "f=open('data.txt','a')\n",
    "f=fo.write(\"popofpogt orue09ueir 09u90eru \")"
   ]
  },
  {
   "cell_type": "code",
   "execution_count": 27,
   "id": "eda7b133",
   "metadata": {},
   "outputs": [
    {
     "name": "stdout",
     "output_type": "stream",
     "text": [
      "30\n"
     ]
    }
   ],
   "source": [
    "print(f)"
   ]
  },
  {
   "cell_type": "code",
   "execution_count": 28,
   "id": "75d8b572",
   "metadata": {},
   "outputs": [
    {
     "name": "stdout",
     "output_type": "stream",
     "text": [
      "gudbyepopofpogt orue09ueir 09u90eru \n",
      "\n"
     ]
    }
   ],
   "source": [
    "f=open(\"data.txt\",'r')\n",
    "s=f.readline()\n",
    "print(s)\n",
    "t=f.readline()\n",
    "print(t)"
   ]
  },
  {
   "cell_type": "code",
   "execution_count": 29,
   "id": "a17dcc37",
   "metadata": {},
   "outputs": [
    {
     "name": "stdout",
     "output_type": "stream",
     "text": [
      "number of lines in the file: 1\n"
     ]
    }
   ],
   "source": [
    "with open (\"data.txt\",'r') as f:\n",
    "    no_of_lines=f.readlines()\n",
    "    print(\"number of lines in the file:\",len(no_of_lines))\n"
   ]
  },
  {
   "cell_type": "code",
   "execution_count": 31,
   "id": "0ad945f6",
   "metadata": {},
   "outputs": [
    {
     "name": "stdout",
     "output_type": "stream",
     "text": [
      "number of words are: 3\n"
     ]
    }
   ],
   "source": [
    "# no of words in the given file\n",
    "words=0\n",
    "for line in no_of_lines:\n",
    "    words_list=line.split()\n",
    "    words+=len(words_list)\n",
    "print(\"number of words are:\",words)    "
   ]
  },
  {
   "cell_type": "markdown",
   "id": "10619863",
   "metadata": {},
   "source": [
    "### functions\n",
    "- builtin functions\n",
    "    - already existed\n",
    "    - ex:print(),input(),len(),int()\n",
    "- user defined functions\n",
    "    - which are defined by the user\n",
    "    - ex: any user can crteate a function"
   ]
  },
  {
   "cell_type": "code",
   "execution_count": null,
   "id": "e61a1f25",
   "metadata": {},
   "outputs": [],
   "source": [
    "def function_name(arguments):# function difinition\n",
    "    statements\n",
    "    statements\n",
    "function_name(parameters)#function calling    "
   ]
  },
  {
   "cell_type": "code",
   "execution_count": 32,
   "id": "4a222770",
   "metadata": {},
   "outputs": [
    {
     "name": "stdout",
     "output_type": "stream",
     "text": [
      "24\n",
      "even number\n"
     ]
    }
   ],
   "source": [
    "# even or odd\n",
    "n=int(input())\n",
    "if n%2==0:\n",
    "    print(\"even number\")\n",
    "else:\n",
    "    print(\"odd number|\")"
   ]
  },
  {
   "cell_type": "code",
   "execution_count": 36,
   "id": "dd6ed813",
   "metadata": {},
   "outputs": [
    {
     "name": "stdout",
     "output_type": "stream",
     "text": [
      "34\n",
      "even\n"
     ]
    }
   ],
   "source": [
    "def even_odd(x):\n",
    "    if x%2==0:\n",
    "        print(\"even\")\n",
    "    else:\n",
    "        print(\"odd\")\n",
    "even_odd(int(input()))      "
   ]
  },
  {
   "cell_type": "code",
   "execution_count": 38,
   "id": "07ad9f2d",
   "metadata": {},
   "outputs": [
    {
     "name": "stdout",
     "output_type": "stream",
     "text": [
      "not prime\n"
     ]
    }
   ],
   "source": [
    "# prime number\n",
    "def prime_check(n):\n",
    "    count=0\n",
    "    for i in range(1,n+1):\n",
    "        if n%i==0:\n",
    "            count+=1\n",
    "    if count==2:\n",
    "        print(\"prime number\")\n",
    "    else:\n",
    "        print(\"not prime\")\n",
    "prime_check(6)        \n",
    "             "
   ]
  },
  {
   "cell_type": "code",
   "execution_count": 40,
   "id": "c04a4350",
   "metadata": {},
   "outputs": [
    {
     "name": "stdout",
     "output_type": "stream",
     "text": [
      "5\n"
     ]
    },
    {
     "data": {
      "text/plain": [
       "True"
      ]
     },
     "execution_count": 40,
     "metadata": {},
     "output_type": "execute_result"
    }
   ],
   "source": [
    "def is_prime(n):\n",
    "    for i in range(2,n+1):\n",
    "        if n%i==0:\n",
    "            return False\n",
    "        return True\n",
    "is_prime(int(input()))    "
   ]
  },
  {
   "cell_type": "code",
   "execution_count": 44,
   "id": "8081b2b1",
   "metadata": {},
   "outputs": [
    {
     "name": "stdout",
     "output_type": "stream",
     "text": [
      "sum of the factors: 6\n",
      "perfect number\n"
     ]
    }
   ],
   "source": [
    "# perfect number:given number is equal\n",
    "#6-->1+2+3=6(perfect number)\n",
    "# 8-->1+2+4=8(not a perfect number)\n",
    "def perfect_num(a):\n",
    "    fact_sum=0\n",
    "    for i in range(1,a):\n",
    "        if a%i==0:\n",
    "            fact_sum=fact_sum+i\n",
    "    print(\"sum of the factors:\",fact_sum)\n",
    "    if a==fact_sum:\n",
    "        print(\"perfect number\")\n",
    "    else:\n",
    "        print(\"not a perfect number\")\n",
    "perfect_num(6)        "
   ]
  },
  {
   "cell_type": "markdown",
   "id": "ead0cad9",
   "metadata": {},
   "source": [
    "### comprehensions\n",
    "### iterater amnd generaters\n",
    "### functional programming\n",
    " \n",
    " ### comprehensions\n",
    " - it is a program of creating new sequance from existing sequance\n",
    " - advantages::less code,easy to understand\n",
    " - types:\n",
    "     - list comprehension\n",
    "     - dictionary comprehension\n",
    "     - set comprehension\n",
    "     - generatyer comprehension\n",
    " - list comprehension\n",
    "     - easy way to create,more effient,and also run faster\n",
    "     - syntax::[expression for item in list if condition]"
   ]
  },
  {
   "cell_type": "code",
   "execution_count": null,
   "id": "b285ca3a",
   "metadata": {},
   "outputs": [],
   "source": [
    "# normal list syntax:\n",
    "for item in list:\n",
    "    if condition:\n",
    "        print(\" \")\n"
   ]
  },
  {
   "cell_type": "code",
   "execution_count": 46,
   "id": "03ecbc48",
   "metadata": {},
   "outputs": [
    {
     "name": "stdout",
     "output_type": "stream",
     "text": [
      "1 2 3 4 5 6 7 8 9 10 "
     ]
    }
   ],
   "source": [
    "for i in range(1,11):\n",
    "    print(i,end=\" \")"
   ]
  },
  {
   "cell_type": "code",
   "execution_count": 51,
   "id": "2affa9f0",
   "metadata": {},
   "outputs": [
    {
     "name": "stdout",
     "output_type": "stream",
     "text": [
      "[1, 2, 3, 4, 5, 6, 7, 8, 9, 10]\n"
     ]
    }
   ],
   "source": [
    "li=[]\n",
    "for i in range(1,11):\n",
    "      li.append(i)\n",
    "print(li)    "
   ]
  },
  {
   "cell_type": "code",
   "execution_count": 52,
   "id": "3120f7cf",
   "metadata": {},
   "outputs": [
    {
     "name": "stdout",
     "output_type": "stream",
     "text": [
      "[5, 10, 15, 20, 25, 30, 35, 40, 45, 50]\n"
     ]
    }
   ],
   "source": [
    "li=[i*5 for i in range(1,11)]\n",
    "print(li)"
   ]
  },
  {
   "cell_type": "code",
   "execution_count": 53,
   "id": "edf103f7",
   "metadata": {},
   "outputs": [
    {
     "name": "stdout",
     "output_type": "stream",
     "text": [
      "[1, 2, 3, 4, 5, 6, 7, 8, 9, 10]\n"
     ]
    }
   ],
   "source": [
    "li=[i for i in range(1,11)]\n",
    "print(li)"
   ]
  },
  {
   "cell_type": "code",
   "execution_count": 54,
   "id": "22765b86",
   "metadata": {},
   "outputs": [
    {
     "name": "stdout",
     "output_type": "stream",
     "text": [
      "[2, 4, 6, 8, 10]\n"
     ]
    }
   ],
   "source": [
    "li=[i for i in range(1,11) if(i%2==0)]\n",
    "print(li)"
   ]
  },
  {
   "cell_type": "code",
   "execution_count": 55,
   "id": "6f5b4129",
   "metadata": {},
   "outputs": [
    {
     "name": "stdout",
     "output_type": "stream",
     "text": [
      "['odd', 2, 'odd', 4, 'odd', 6, 'odd', 8, 'odd', 10]\n"
     ]
    }
   ],
   "source": [
    "li=([i if i%2==0 else \"odd\" for i in range (1,11)])\n",
    "print(li)"
   ]
  },
  {
   "cell_type": "code",
   "execution_count": 57,
   "id": "f3a62aa9",
   "metadata": {},
   "outputs": [
    {
     "name": "stdout",
     "output_type": "stream",
     "text": [
      "[(1, 'odd'), (2, 'even'), (3, 'odd'), (4, 'even'), (5, 'odd'), (6, 'even'), (7, 'odd'), (8, 'even'), (9, 'odd'), (10, 'even')]\n"
     ]
    }
   ],
   "source": [
    "print([(i,\"even\") if i%2==0 else (i,\"odd\") for i in range(1,11)])"
   ]
  },
  {
   "cell_type": "code",
   "execution_count": 58,
   "id": "7c3ffec9",
   "metadata": {},
   "outputs": [
    {
     "name": "stdout",
     "output_type": "stream",
     "text": [
      "['stay', 'home', 'stay', 'safe']\n"
     ]
    }
   ],
   "source": [
    "a=['stay home','stay safe']# list\n",
    "li=[]\n",
    "for i in a:\n",
    "    for j in i.split():\n",
    "        li.append(j)\n",
    "print(li)        "
   ]
  },
  {
   "cell_type": "code",
   "execution_count": 59,
   "id": "38f97581",
   "metadata": {},
   "outputs": [
    {
     "name": "stdout",
     "output_type": "stream",
     "text": [
      "['stay', 'home', 'stay', 'safe']\n"
     ]
    }
   ],
   "source": [
    "x=[j for i in a for j in i.split() ]\n",
    "print(x)"
   ]
  },
  {
   "cell_type": "code",
   "execution_count": 61,
   "id": "18090bf0",
   "metadata": {},
   "outputs": [
    {
     "data": {
      "text/plain": [
       "[[1, 2, 3, 4, 5, 6, 7, 8, 9, 10],\n",
       " [2, 4, 6, 8, 10, 12, 14, 16, 18, 20],\n",
       " [3, 6, 9, 12, 15, 18, 21, 24, 27, 30],\n",
       " [4, 8, 12, 16, 20, 24, 28, 32, 36, 40],\n",
       " [5, 10, 15, 20, 25, 30, 35, 40, 45, 50],\n",
       " [6, 12, 18, 24, 30, 36, 42, 48, 54, 60],\n",
       " [7, 14, 21, 28, 35, 42, 49, 56, 63, 70],\n",
       " [8, 16, 24, 32, 40, 48, 56, 64, 72, 80],\n",
       " [9, 18, 27, 36, 45, 54, 63, 72, 81, 90],\n",
       " [10, 20, 30, 40, 50, 60, 70, 80, 90, 100]]"
      ]
     },
     "execution_count": 61,
     "metadata": {},
     "output_type": "execute_result"
    }
   ],
   "source": [
    "a=[[i*j for i in range(1,11)] for j in range(1,11)]\n",
    "a"
   ]
  },
  {
   "cell_type": "code",
   "execution_count": 62,
   "id": "fd69fa2e",
   "metadata": {},
   "outputs": [
    {
     "name": "stdout",
     "output_type": "stream",
     "text": [
      "{'N130057': 'rajesh', 'N130038': 'sathish', 'N130039': 'mahesh'}\n"
     ]
    }
   ],
   "source": [
    "# Dictionary comprehension\n",
    "id_no=['N130057','N130038','N130039']\n",
    "names=['rajesh','sathish','mahesh']\n",
    "c={}\n",
    "for (key,value) in zip(id_no,names):\n",
    "    c[key]=value\n",
    "print(c)    "
   ]
  },
  {
   "cell_type": "code",
   "execution_count": 63,
   "id": "ebadcd5b",
   "metadata": {},
   "outputs": [
    {
     "data": {
      "text/plain": [
       "{1: 2, 2: 4, 3: 6, 4: 8, 5: 10, 6: 12, 7: 14, 8: 16, 9: 18, 10: 20}"
      ]
     },
     "execution_count": 63,
     "metadata": {},
     "output_type": "execute_result"
    }
   ],
   "source": [
    "d={i:i*2 for i in range(1,11)}\n",
    "d"
   ]
  },
  {
   "cell_type": "code",
   "execution_count": 64,
   "id": "136c9978",
   "metadata": {},
   "outputs": [
    {
     "data": {
      "text/plain": [
       "{'o': 3, 'p': 3, 'i': 1, 'c': 2}"
      ]
     },
     "execution_count": 64,
     "metadata": {},
     "output_type": "execute_result"
    }
   ],
   "source": [
    "li=['o','o','o','p','p','p','i','c','c']\n",
    "{i:li.count(i) for i in li}"
   ]
  },
  {
   "cell_type": "code",
   "execution_count": 68,
   "id": "dca2c0bc",
   "metadata": {},
   "outputs": [
    {
     "data": {
      "text/plain": [
       "{0: 'A',\n",
       " 1: 'B',\n",
       " 2: 'C',\n",
       " 3: 'D',\n",
       " 4: 'E',\n",
       " 5: 'F',\n",
       " 6: 'G',\n",
       " 7: 'H',\n",
       " 8: 'I',\n",
       " 9: 'J'}"
      ]
     },
     "execution_count": 68,
     "metadata": {},
     "output_type": "execute_result"
    }
   ],
   "source": [
    "#{0:A 1:B 2:C 3:D}\n",
    "d={i:chr(65+i)for i in range(10)}\n",
    "(d)"
   ]
  },
  {
   "cell_type": "code",
   "execution_count": 69,
   "id": "fab2d174",
   "metadata": {},
   "outputs": [
    {
     "data": {
      "text/plain": [
       "{'rajesh': 6, 'mahesh': 6, 'sathish': 7}"
      ]
     },
     "execution_count": 69,
     "metadata": {},
     "output_type": "execute_result"
    }
   ],
   "source": [
    "names=['rajesh','mahesh','sathish']\n",
    "d={i:len(i)for i in names}\n",
    "d"
   ]
  },
  {
   "cell_type": "code",
   "execution_count": 70,
   "id": "0be5f268",
   "metadata": {},
   "outputs": [
    {
     "data": {
      "text/plain": [
       "{6, 12, 18, 24, 30}"
      ]
     },
     "execution_count": 70,
     "metadata": {},
     "output_type": "execute_result"
    }
   ],
   "source": [
    "# set comprehension\n",
    "(1,11)s={i*3 for i in range if i%2==0}\n",
    "s"
   ]
  },
  {
   "cell_type": "code",
   "execution_count": 71,
   "id": "c505af68",
   "metadata": {},
   "outputs": [
    {
     "data": {
      "text/plain": [
       "{6, 12, 18, 24}"
      ]
     },
     "execution_count": 71,
     "metadata": {},
     "output_type": "execute_result"
    }
   ],
   "source": [
    "s={i*3 for i in [1,2,3,4,5,6,7,8] if i%2==0}\n",
    "s"
   ]
  },
  {
   "cell_type": "code",
   "execution_count": 72,
   "id": "01037f43",
   "metadata": {},
   "outputs": [
    {
     "data": {
      "text/plain": [
       "<generator object <genexpr> at 0x000000456B200040>"
      ]
     },
     "execution_count": 72,
     "metadata": {},
     "output_type": "execute_result"
    }
   ],
   "source": [
    "# generaters comprehension\n",
    "c=(i*3 for i in range(5))\n",
    "c"
   ]
  },
  {
   "cell_type": "markdown",
   "id": "4dd17c98",
   "metadata": {},
   "source": [
    "### Iterators and generaters\n",
    "- iterater is an object in python .it contains no elements\n",
    "- 2 methods\n",
    "    - iter\n",
    "    - next\n",
    "- list.set.tuple.dict all are iteratable objects    "
   ]
  },
  {
   "cell_type": "code",
   "execution_count": 73,
   "id": "bc6b0068",
   "metadata": {},
   "outputs": [
    {
     "name": "stdout",
     "output_type": "stream",
     "text": [
      "p\n",
      "y\n",
      "t\n",
      "h\n",
      "o\n",
      "n\n"
     ]
    }
   ],
   "source": [
    "a=\"python\"\n",
    "for i in a:\n",
    "    print(i)"
   ]
  },
  {
   "cell_type": "code",
   "execution_count": 74,
   "id": "31f227d6",
   "metadata": {},
   "outputs": [
    {
     "name": "stdout",
     "output_type": "stream",
     "text": [
      "<str_iterator object at 0x000000456C59BAC0>\n",
      "p\n",
      "y\n",
      "t\n"
     ]
    }
   ],
   "source": [
    "s=iter('python')\n",
    "print(s)\n",
    "print(next(s))\n",
    "print(next(s))\n",
    "print(next(s))"
   ]
  },
  {
   "cell_type": "markdown",
   "id": "73c4dbb1",
   "metadata": {},
   "source": [
    "## generater\n",
    "- generater can be used to either functions or comprehension\n",
    "- it returns a iterater or objects\n",
    "- in generater 'yield'can be used in place of return"
   ]
  },
  {
   "cell_type": "code",
   "execution_count": 75,
   "id": "9d764792",
   "metadata": {},
   "outputs": [
    {
     "data": {
      "text/plain": [
       "'e'"
      ]
     },
     "execution_count": 75,
     "metadata": {},
     "output_type": "execute_result"
    }
   ],
   "source": [
    "def python():\n",
    "    return 'e'\n",
    "    print('place')\n",
    "python()    "
   ]
  },
  {
   "cell_type": "code",
   "execution_count": 77,
   "id": "ec7d60b5",
   "metadata": {},
   "outputs": [
    {
     "ename": "SyntaxError",
     "evalue": "invalid syntax (Temp/ipykernel_1604/2444651827.py, line 6)",
     "output_type": "error",
     "traceback": [
      "\u001b[1;36m  File \u001b[1;32m\"C:\\Users\\Lab\\AppData\\Local\\Temp/ipykernel_1604/2444651827.py\"\u001b[1;36m, line \u001b[1;32m6\u001b[0m\n\u001b[1;33m    for ch is  python():\u001b[0m\n\u001b[1;37m                       ^\u001b[0m\n\u001b[1;31mSyntaxError\u001b[0m\u001b[1;31m:\u001b[0m invalid syntax\n"
     ]
    }
   ],
   "source": [
    "def python():\n",
    "    yield 'mango'\n",
    "    yield 'program'\n",
    "    yield 'sdc'\n",
    "#python\n",
    "for ch is  python():\n",
    "    print(ch)"
   ]
  },
  {
   "cell_type": "markdown",
   "id": "e65e2273",
   "metadata": {},
   "source": [
    "### Lambda\n",
    "- anonymouse finction or single line function\n",
    "- single expression,no of arguments\n",
    "- syntax::lambda arguments expression\n"
   ]
  },
  {
   "cell_type": "code",
   "execution_count": 80,
   "id": "c1662c69",
   "metadata": {},
   "outputs": [
    {
     "data": {
      "text/plain": [
       "9"
      ]
     },
     "execution_count": 80,
     "metadata": {},
     "output_type": "execute_result"
    }
   ],
   "source": [
    "def add (a,b):\n",
    "    return a+b\n",
    "add(4,5)    "
   ]
  },
  {
   "cell_type": "code",
   "execution_count": 81,
   "id": "1e0e3e7c",
   "metadata": {},
   "outputs": [],
   "source": [
    "b=lambda a,b:a+b"
   ]
  },
  {
   "cell_type": "markdown",
   "id": "658902b4",
   "metadata": {},
   "source": [
    "### map\n",
    "- syntax"
   ]
  }
 ],
 "metadata": {
  "kernelspec": {
   "display_name": "Python 3 (ipykernel)",
   "language": "python",
   "name": "python3"
  },
  "language_info": {
   "codemirror_mode": {
    "name": "ipython",
    "version": 3
   },
   "file_extension": ".py",
   "mimetype": "text/x-python",
   "name": "python",
   "nbconvert_exporter": "python",
   "pygments_lexer": "ipython3",
   "version": "3.9.7"
  }
 },
 "nbformat": 4,
 "nbformat_minor": 5
}
