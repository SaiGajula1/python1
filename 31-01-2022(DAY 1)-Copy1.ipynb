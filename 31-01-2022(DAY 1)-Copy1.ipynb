{
 "cells": [
  {
   "cell_type": "code",
   "execution_count": 2,
   "metadata": {},
   "outputs": [
    {
     "name": "stdout",
     "output_type": "stream",
     "text": [
      "HELLO WORLD\n"
     ]
    }
   ],
   "source": [
    "print(\"HELLO WORLD\")"
   ]
  },
  {
   "cell_type": "code",
   "execution_count": 9,
   "metadata": {},
   "outputs": [
    {
     "name": "stdout",
     "output_type": "stream",
     "text": [
      "enter first number =1\n",
      "enter secound number =1\n",
      "sum: 2\n"
     ]
    }
   ],
   "source": [
    "a=int(input(\"enter first number =\"))\n",
    "b=int(input(\"enter secound number =\"))\n",
    "sum=a + b\n",
    "print(\"sum:\",sum)"
   ]
  },
  {
   "cell_type": "markdown",
   "metadata": {},
   "source": [
    "# GOOD AFTERNOON"
   ]
  },
  {
   "cell_type": "markdown",
   "metadata": {},
   "source": [
    "# Hiiiiii\n",
    "## friends\n",
    "### welcome\n",
    "#### TO\n",
    "##### VASAVI\n",
    "###### COLLEGE"
   ]
  },
  {
   "cell_type": "markdown",
   "metadata": {},
   "source": [
    "# BOLD  \n",
    "**APSSDC**\n"
   ]
  },
  {
   "cell_type": "markdown",
   "metadata": {},
   "source": [
    "# DETAILED LINES  \n",
    "I am from Vasavi.  \n",
    "I am Sai.  \n",
    "I am a student.  \n"
   ]
  },
  {
   "cell_type": "markdown",
   "metadata": {},
   "source": [
    "# PARAGRAH  \n",
    "HIII MY NAME IS SAI SEE YOU BYEE"
   ]
  },
  {
   "cell_type": "markdown",
   "metadata": {},
   "source": [
    "# UNORDERED LIST  \n",
    "+ ONE  \n",
    "- TWO  \n",
    "* THREE  \n",
    "    + FOUR\n",
    "    - FIVE\n",
    "    * SIX  \n",
    "        + SEVEN\n",
    "        - EIGHT\n",
    "        * NINE  \n",
    "        \n",
    "   "
   ]
  },
  {
   "cell_type": "markdown",
   "metadata": {},
   "source": [
    "# ORDERED LIST  \n",
    "1. ONE  \n",
    "2. TWO  \n",
    "3. THREE  \n",
    "4. FOUR  \n",
    "    5. FIVE  \n",
    "    6. SIX  \n",
    "    7. SEVEN  \n",
    "        8. EIGHT  \n",
    "        9. NINE  \n",
    "        10. TEN  \n",
    "            11. ELEVEN  \n",
    "            12. TWELVE   \n",
    "            13. THIRTEEN  \n",
    "            14. FOURTEEN  \n",
    "                15. FIVTEEN  \n",
    "                16. SIXTEEN\n",
    "                17. SEVENTEEN\n",
    "                18. EIGHTEEN  \n",
    "                \n",
    "            \n",
    "            \n",
    "            \n",
    "        \n",
    "    \n"
   ]
  },
  {
   "cell_type": "markdown",
   "metadata": {},
   "source": [
    "## COMMENTS  \n",
    "- USER READABLE INFORMATION OR DATA  \n",
    "- COMMENTS DOESNT EXECUTE  \n",
    "- IT IS MENTIONED IN '#'  \n",
    "- FOR MULTIPLE LINES COMMENT MENTION IN THE FORMAT OF \" \"\n"
   ]
  },
  {
   "cell_type": "markdown",
   "metadata": {},
   "source": [
    "## VARIABLES  \n",
    "- USED TO STORE DATA  \n",
    "- STARTS WITH CHARACTERS(UPPER,LOWER),UNDERSCORES  \n",
    "- NOT STARTS WITH SPECIAL CHAR,SPECIAL SYMBOL,KEYWORDS  \n"
   ]
  },
  {
   "cell_type": "markdown",
   "metadata": {},
   "source": [
    "## DATA TYPES  \n",
    "-    INT  (ALL INTEGER VALUES)  \n",
    "-  FLOAT  (INTEGERS WITH DECIMAL POINT)  \n",
    "-    STR  (COMBINATION OFCHARACTERTS)  \n",
    "- COMPLEX (NUMBER WITH REAL AND IMAGINARY VALUES)  \n",
    "- BOOLEAN (TRUE,FALSE)  "
   ]
  },
  {
   "cell_type": "code",
   "execution_count": 41,
   "metadata": {},
   "outputs": [],
   "source": [
    "a=123\n",
    "b=12.3\n",
    "c=\"vasavi\"\n",
    "d=1+2j\n",
    "e=True"
   ]
  },
  {
   "cell_type": "code",
   "execution_count": 42,
   "metadata": {},
   "outputs": [
    {
     "name": "stdout",
     "output_type": "stream",
     "text": [
      "<class 'int'>\n",
      "<class 'float'>\n",
      "<class 'str'>\n",
      "<class 'complex'>\n",
      "<class 'bool'>\n"
     ]
    }
   ],
   "source": [
    "print(type(a))\n",
    "print(type(b))\n",
    "print(type(c))\n",
    "print(type(d))\n",
    "print(type(e))"
   ]
  },
  {
   "cell_type": "markdown",
   "metadata": {},
   "source": [
    "# TYPECASTING\n",
    "- CONVERTS ONE DATA FROM ONE DATA TYPE TO ANOTHER DATA TYPE  \n"
   ]
  },
  {
   "cell_type": "code",
   "execution_count": 43,
   "metadata": {},
   "outputs": [
    {
     "name": "stdout",
     "output_type": "stream",
     "text": [
      "<class 'int'>\n"
     ]
    }
   ],
   "source": [
    "A=123\n",
    "print(type(A))"
   ]
  },
  {
   "cell_type": "code",
   "execution_count": 44,
   "metadata": {},
   "outputs": [
    {
     "name": "stdout",
     "output_type": "stream",
     "text": [
      "<class 'str'>\n",
      "123\n"
     ]
    }
   ],
   "source": [
    "z=str(A)\n",
    "print(type(z))\n",
    "print(z)\n"
   ]
  },
  {
   "cell_type": "code",
   "execution_count": 45,
   "metadata": {},
   "outputs": [
    {
     "name": "stdout",
     "output_type": "stream",
     "text": [
      "<class 'float'>\n",
      "123.0\n"
     ]
    }
   ],
   "source": [
    "z=float(A)\n",
    "print(type(z))\n",
    "print(z)"
   ]
  },
  {
   "cell_type": "code",
   "execution_count": 46,
   "metadata": {
    "collapsed": true
   },
   "outputs": [
    {
     "name": "stdout",
     "output_type": "stream",
     "text": [
      "<class 'complex'>\n",
      "(123+0j)\n"
     ]
    }
   ],
   "source": [
    "z=complex(A)\n",
    "print(type(z))\n",
    "print(z)"
   ]
  },
  {
   "cell_type": "code",
   "execution_count": 47,
   "metadata": {},
   "outputs": [
    {
     "name": "stdout",
     "output_type": "stream",
     "text": [
      "<class 'str'>\n"
     ]
    }
   ],
   "source": [
    "a=\"vasavi\"\n",
    "print(type(a))"
   ]
  },
  {
   "cell_type": "code",
   "execution_count": 48,
   "metadata": {},
   "outputs": [
    {
     "name": "stdout",
     "output_type": "stream",
     "text": [
      "<class 'int'>\n",
      "1234567\n"
     ]
    }
   ],
   "source": [
    "a=\"1234567\"\n",
    "z=int(a)\n",
    "print(type(z))\n",
    "print(z)"
   ]
  },
  {
   "cell_type": "code",
   "execution_count": null,
   "metadata": {},
   "outputs": [],
   "source": []
  },
  {
   "cell_type": "code",
   "execution_count": null,
   "metadata": {},
   "outputs": [],
   "source": []
  }
 ],
 "metadata": {
  "kernelspec": {
   "display_name": "Python 3",
   "language": "python",
   "name": "python3"
  },
  "language_info": {
   "codemirror_mode": {
    "name": "ipython",
    "version": 3
   },
   "file_extension": ".py",
   "mimetype": "text/x-python",
   "name": "python",
   "nbconvert_exporter": "python",
   "pygments_lexer": "ipython3",
   "version": "3.8.5"
  }
 },
 "nbformat": 4,
 "nbformat_minor": 4
}
